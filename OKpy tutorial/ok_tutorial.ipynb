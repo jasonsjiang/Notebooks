{
 "cells": [
  {
   "cell_type": "markdown",
   "metadata": {},
   "source": [
    "# OKpy Tutorial: Notebook Implementation\n",
    "\n",
    "In this notebook, we will go over how to implement OKpy into notebooks for grading and submissions, as well as how to create and edit `.ok` files and how to write your own tests.\n",
    "\n",
    "**In order to complete this tutorial, please make sure you're on datahub!**\n",
    "\n",
    "### Table of Contents\n",
    "1 - [Importing OKpy](#section 1)<br>\n",
    "2 - [Creating a `.ok` File](#section 2)<br>\n",
    "3 - [Writing Tests](#section 3)<br>\n",
    "4 - [Grading and Submission](#section 4)<br>\n",
    "\n",
    "\n",
    "### 1. Importing OKpy<a id='section 1'></a>\n",
    "\n",
    "First, we'll load OKpy into our notebook and run the setup code. The cell below contains the three lines of code required for grading, backups, and submissions."
   ]
  },
  {
   "cell_type": "code",
   "execution_count": 1,
   "metadata": {},
   "outputs": [],
   "source": [
    "from client.api.notebook import Notebook \n",
    "ok = Notebook('ok_tutorial.ok') #OK setup code, loads autograder tests. Use the .ok file \n",
    "                               #that goes with the assignment\n",
    "_ = ok.auth(inline=True) #Opens OAuth link (the authentication token)\n",
    "                         #We won't use this in this notebook\n",
    "                          #because we aren't going to submit anything."
   ]
  },
  {
   "cell_type": "markdown",
   "metadata": {},
   "source": [
    "On the second line, `ok = Notebook('ok_tutorial.ok')` loads the `.ok` configuration file for the assignment. As you can tell, it raised an error because `ok_tutorial.ok` is not in our directory. Go back to your directory and change the name of `edit_me.ok` to `ok_tutorial.ok`. Restart the notebook run the cell again. \n",
    "\n",
    "**Note:** The name of the `.ok` file should always match the name of the `.ipynb` file.\n",
    "\n",
    "Now, we'll go over how to create and edit a `.ok` file in Jupyter.\n",
    "\n",
    "----"
   ]
  },
  {
   "cell_type": "markdown",
   "metadata": {},
   "source": [
    "### Creating a `.ok` File<a id='section 2'></a>\n",
    "\n",
    "Jupyter cannot open `.ok` files, meaning that we cannot easily edit them. Fortunately, there is a way to work around this! We can change the extension of the `.ok` files in Jupyter to `.py`. We aren't writing Python code, but changing the extension enables us to edit directly in Jupyter so we don't have to create our own from scratch using a text editor. \n",
    "\n",
    "**Your next task is to change the extension of `ok_tutorial.ok` to `.py`. Open the file once you change the extension.**\n",
    "\n",
    "Confirm that `.ok` file looks like this:\n",
    "\n",
    "```\n",
    "{\n",
    "  \"name\": \"Lab 1\",\n",
    "  \"endpoint\": \"cal/ugba96/su18/lab01\",\n",
    "  \"src\": [\n",
    "    \"lab01.ipynb\"\n",
    "  ],\n",
    "  \"tests\": {\n",
    "      \"tests/q*.py\": \"ok_test\"\n",
    "  },\n",
    "  \"protocols\": [\n",
    "      \"file_contents\",\n",
    "      \"grading\",\n",
    "      \"backup\"\n",
    "  ]\n",
    "}\n",
    "```\n",
    "\n",
    "Below is the template to follow when creating any `.ok` file:\n",
    "\n",
    "```\n",
    "{\n",
    "  \"name\": \"ASSIGNMENT NAME\",\n",
    "  \"endpoint\": \"cal/COURSE NAME/TERM/ASSIGNMENT\", #OK course information\n",
    "  \"src\": [\n",
    "    \"FILE TO BE SUBMITTED\"\n",
    "  ],\n",
    "  \"tests\": {\n",
    "      \"tests/q*.py\": \"ok_test\"\n",
    "  },\n",
    "  \"protocols\": [\n",
    "      \"file_contents\",\n",
    "      \"grading\",\n",
    "      \"backup\"\n",
    "  ]\n",
    "}\n",
    "```\n",
    "\n",
    "The information we modify and tailor for a certain assignment is contained in the `name`, `endpoint`, `src` keys. If you're creating tests for multiple courses or working across multiple terms, make sure to change the course name and term in the `endpoint` entry.\n",
    "\n",
    "----"
   ]
  },
  {
   "cell_type": "markdown",
   "metadata": {},
   "source": [
    "### Writing Tests<a id='section 3'></a>\n",
    "\n",
    "Now that we know the general format of a `.ok` file and how to edit it in Jupyter, we can learn how to start writing tests. In order to run any tests, we need to have a `tests` folder in our current directory. We have created a `tests` folder that contains `__init__.py` as well as `q1_1.py`.\n",
    "\n",
    "**Note:** Even if there are no questions to be graded, OKpy requires a `tests` folder containing `__init__.py` and at least one test file to submit.\n",
    "\n",
    "Open the the two files in the `tests` folder. You'll notice that `__init__.py` is blank. Although we leave it empty, it's required so OK doesn't raise an error. Next, move on to `q1_1.py`. It'll look like this:\n",
    "\n",
    "```\n",
    "test = {\n",
    "  'name': 'Question 1_1',     #Name of the question that will show up on OKpy servers\n",
    "  'points': 1,                #Point value\n",
    "  'suites': [                 #Suites you want to test\n",
    "    {\n",
    "      'cases': [              #Cases to test for each suite (this the first suite)\n",
    "        {\n",
    "          'code': r\"\"\"\n",
    "          >>> x == 35\n",
    "          True\n",
    "          \"\"\",\n",
    "          'hidden': False,\n",
    "          'locked': False\n",
    "        },\n",
    "        {\n",
    "          'code': r\"\"\"         #Second case. Can add as many cases as necessary, as well\n",
    "          >>> x - 35 > 0       #As test multiple things in one case\n",
    "          True\n",
    "          >>> x + 35 == 70\n",
    "          True\n",
    "          \"\"\",\n",
    "          'hidden': False,\n",
    "          'locked': False\n",
    "        }\n",
    "      ],\n",
    "      'scored': True,\n",
    "      'setup': '',\n",
    "      'teardown': '',\n",
    "      'type': 'doctest'\n",
    "    }                         \n",
    "  ]\n",
    "}\n",
    "```\n",
    "\n",
    "The format of the tests is a dictionary, and the 'suites' key is a nested list consisting of dictionaries which contain the code to be run for the test. In general, for notebooks, we will only be testing one suite that contain one or multiple cases. \n",
    "\n",
    "Another thing you may have noticed is `'setup'`, `'teardown'`, and `'type'` keys in the end of the dictionary entry. We won't need to edit these keys for notebook purposes. \n",
    "\n",
    "----"
   ]
  },
  {
   "cell_type": "markdown",
   "metadata": {},
   "source": [
    "### Grading and  Submission<a id='section 4'></a>\n",
    "\n",
    "Let's try if our test works! Assign the number 35 to a variable `x`. After you do that, uncomment `_ = ok.grade('q1_1')` and run the cell."
   ]
  },
  {
   "cell_type": "code",
   "execution_count": null,
   "metadata": {},
   "outputs": [],
   "source": [
    "...\n",
    "#_ = ok.grade('q1_1')"
   ]
  },
  {
   "cell_type": "markdown",
   "metadata": {},
   "source": [
    "Oh no! The second test didn't pass. We can't change what `x` is or our first test wont pass. For practice, edit `q1_1.py` in the `tests` folder so that the second case will pass. Once you've edited the test, restart notebook and re-run the cell above.\n",
    "\n",
    "----\n",
    "\n",
    "Below is the code for creating backups of student code. Ideally, a backup would be created after a question is tested."
   ]
  },
  {
   "cell_type": "code",
   "execution_count": null,
   "metadata": {},
   "outputs": [],
   "source": [
    "_ = ok.backup()"
   ]
  },
  {
   "cell_type": "markdown",
   "metadata": {},
   "source": [
    "Almost done! The cell below runs all of the tests once again to check for any errors before submission (or not, depending on where this cell is placed). The code is formatted exactly the same as Data 8 notebooks."
   ]
  },
  {
   "cell_type": "code",
   "execution_count": null,
   "metadata": {},
   "outputs": [],
   "source": [
    "import os\n",
    "print(\"Running all tests...\")\n",
    "_ = [ok.grade(q[:-3]) for q in os.listdir(\"tests\") if q.startswith('q')]\n",
    "print(\"Finished running all tests.\")"
   ]
  },
  {
   "cell_type": "markdown",
   "metadata": {},
   "source": [
    "And we are done! We can submit this, although it will error because UGBA-96 isn't held over the summer. But remember to have this at the end so students will be able to submit their work! "
   ]
  },
  {
   "cell_type": "code",
   "execution_count": null,
   "metadata": {},
   "outputs": [],
   "source": [
    "_ = ok.submit()"
   ]
  }
 ],
 "metadata": {
  "kernelspec": {
   "display_name": "Python 3",
   "language": "python",
   "name": "python3"
  },
  "language_info": {
   "codemirror_mode": {
    "name": "ipython",
    "version": 3
   },
   "file_extension": ".py",
   "mimetype": "text/x-python",
   "name": "python",
   "nbconvert_exporter": "python",
   "pygments_lexer": "ipython3",
   "version": "3.6.3"
  }
 },
 "nbformat": 4,
 "nbformat_minor": 2
}
